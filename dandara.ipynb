{
  "cells": [
    {
      "cell_type": "markdown",
      "metadata": {
        "id": "view-in-github",
        "colab_type": "text"
      },
      "source": [
        "<a href=\"https://colab.research.google.com/github/Danieu1/Filmes/blob/main/dandara.ipynb\" target=\"_parent\"><img src=\"https://colab.research.google.com/assets/colab-badge.svg\" alt=\"Open In Colab\"/></a>"
      ]
    },
    {
      "cell_type": "markdown",
      "source": [
        "# **ESTATISTICA APLICADA**\n",
        "\n",
        "Dandara de jesus oliveira Bastos\n",
        "\n",
        "\n",
        "\n",
        "\n",
        "\n"
      ],
      "metadata": {
        "id": "YzG0TFE1QQ9A"
      }
    },
    {
      "cell_type": "markdown",
      "source": [
        "# **DISTRIBUIÇÃO DE PROBABILIDADE**\n",
        "\n",
        "\n",
        "Este é um modelo matemático que relaciona um certo valor da variável em estudo com as suas probabilidades de ocorrências. Há dois tipos dele: Variáveis Aleatórias Discretas e as Variáveis Aleatórias Contínuas."
      ],
      "metadata": {
        "id": "95LGCnfsUN7l"
      }
    },
    {
      "cell_type": "markdown",
      "source": [
        "# **2.VARIAVEIS ALEATORIAS DISCRETAS**\n",
        "\n",
        "Uma variável aleatória é definida como discreta quando o número de valores possíveis que a variável assume for finitamente ou infinitamente enumerável.\n",
        "\n",
        "Abaixo apresentarei alguns exemplos aplicados de algumas distribuições discretas importante.\n"
      ],
      "metadata": {
        "id": "uvnHl0UOWGp0"
      }
    },
    {
      "cell_type": "markdown",
      "source": [
        "# **2.1 DISCRETAS BERNOULLI**\n",
        "\n",
        "# **Código # 1: Criação de variável aleatória discreta de Bernoulli.**# \n",
        "\n",
        "x: quantis\n",
        "\n",
        "Loc: parâmetro de localização [opcional]. Padrão = 0\n",
        "\n",
        "Escala: parâmetro de escala [opcional]. Padrão = 1\n",
        "\n",
        "Momentos: [opcional] composto por letras ['mvsk']; 'm' = média 'v' = variância, 's' = inclinação de Fisher e 'k' = curtose de Fisher. (padrão = 'mv').\n",
        "\n"
      ],
      "metadata": {
        "id": "ALa3PDB6Y-bj"
      }
    },
    {
      "cell_type": "code",
      "source": [
        "from scipy.stats import bernoulli  \n",
        "    \n",
        "numargs = bernoulli .numargs  \n",
        "a, b = 0.2, 0.8\n",
        "rv = bernoulli (a, b)  \n",
        "    \n",
        "print (\"RV : \\n\", rv) "
      ],
      "metadata": {
        "colab": {
          "base_uri": "https://localhost:8080/"
        },
        "id": "KTUkXXxzaboS",
        "outputId": "c052d5c3-8146-4ca6-b5f7-c75fb9b70072"
      },
      "execution_count": 1,
      "outputs": [
        {
          "output_type": "stream",
          "name": "stdout",
          "text": [
            "RV : \n",
            " <scipy.stats._distn_infrastructure.rv_frozen object at 0x7fa03b9b8610>\n"
          ]
        }
      ]
    },
    {
      "cell_type": "markdown",
      "source": [
        "# **Código # 2: Variáveis ​​discretas de Bernoulli e distribuição de probabilidade.**"
      ],
      "metadata": {
        "id": "mnXBhJcIbBRi"
      }
    },
    {
      "cell_type": "code",
      "source": [
        "import numpy as np  \n",
        "quantile = np.arange (0.01, 1, 0.1)  \n",
        "R = bernoulli .rvs(a, b, size = 10)  \n",
        "print (\"Random Variates : \\n\", R)  \n",
        "x = np.linspace(bernoulli.ppf(0.01, a, b), \n",
        "                bernoulli.ppf(0.99, a, b), 10) \n",
        "R = bernoulli.ppf(x, 1, 3) \n",
        "print (\"\\nProbability Distribution : \\n\", R) "
      ],
      "metadata": {
        "colab": {
          "base_uri": "https://localhost:8080/"
        },
        "id": "uzWUF0rZbFAR",
        "outputId": "719d5b96-2214-462a-e26e-714c89911a22"
      },
      "execution_count": 2,
      "outputs": [
        {
          "output_type": "stream",
          "name": "stdout",
          "text": [
            "Random Variates : \n",
            " [0 0 0 0 0 1 0 1 0 0]\n",
            "\n",
            "Probability Distribution : \n",
            " [ 4.  4. nan nan nan nan nan nan nan nan]\n"
          ]
        }
      ]
    },
    {
      "cell_type": "markdown",
      "source": [
        "# **Código # 3: Representação gráfica.**"
      ],
      "metadata": {
        "id": "XOQXiTR0bLHy"
      }
    },
    {
      "cell_type": "code",
      "source": [
        "import numpy as np  \n",
        "import matplotlib.pyplot as plt  \n",
        "     \n",
        "distribution = np.linspace(0, np.minimum(rv.dist.b, 2))  \n",
        "print(\"Distribution : \\n\", distribution)  \n",
        "     \n",
        "plot = plt.plot(distribution, rv.ppf(distribution)) "
      ],
      "metadata": {
        "colab": {
          "base_uri": "https://localhost:8080/",
          "height": 439
        },
        "id": "sNw4YUtsbUWQ",
        "outputId": "b43937a5-a6ad-45f5-868e-f8aeb7b3c964"
      },
      "execution_count": 3,
      "outputs": [
        {
          "output_type": "stream",
          "name": "stdout",
          "text": [
            "Distribution : \n",
            " [0.         0.02040816 0.04081633 0.06122449 0.08163265 0.10204082\n",
            " 0.12244898 0.14285714 0.16326531 0.18367347 0.20408163 0.2244898\n",
            " 0.24489796 0.26530612 0.28571429 0.30612245 0.32653061 0.34693878\n",
            " 0.36734694 0.3877551  0.40816327 0.42857143 0.44897959 0.46938776\n",
            " 0.48979592 0.51020408 0.53061224 0.55102041 0.57142857 0.59183673\n",
            " 0.6122449  0.63265306 0.65306122 0.67346939 0.69387755 0.71428571\n",
            " 0.73469388 0.75510204 0.7755102  0.79591837 0.81632653 0.83673469\n",
            " 0.85714286 0.87755102 0.89795918 0.91836735 0.93877551 0.95918367\n",
            " 0.97959184 1.        ]\n"
          ]
        },
        {
          "output_type": "display_data",
          "data": {
            "text/plain": [
              "<Figure size 432x288 with 1 Axes>"
            ],
            "image/png": "[encoded data removed]"
          },
          "metadata": {
            "needs_background": "light"
          }
        }
      ]
    },
    {
      "cell_type": "markdown",
      "source": [
        "# **Código # 4: Argumentos posicionais variáveis**"
      ],
      "metadata": {
        "id": "jLYzmQvXbazJ"
      }
    },
    {
      "cell_type": "code",
      "source": [
        "import matplotlib.pyplot as plt  \n",
        "import numpy as np  \n",
        "  \n",
        "x = np.linspace(0, 5, 100)  \n",
        "     \n",
        "y1 = bernoulli.ppf(x, a, b)  \n",
        "y2 = bernoulli.pmf(x, a, b)  \n",
        "plt.plot(x, y1, \"*\", x, y2, \"r--\") "
      ],
      "metadata": {
        "colab": {
          "base_uri": "https://localhost:8080/",
          "height": 300
        },
        "id": "TMgLZcQycB9A",
        "outputId": "96330522-ed44-4695-eae8-d584af11eb42"
      },
      "execution_count": 4,
      "outputs": [
        {
          "output_type": "execute_result",
          "data": {
            "text/plain": [
              "[<matplotlib.lines.Line2D at 0x7fa02c7810d0>,\n",
              " <matplotlib.lines.Line2D at 0x7fa02c781310>]"
            ]
          },
          "metadata": {},
          "execution_count": 4
        },
        {
          "output_type": "display_data",
          "data": {
            "text/plain": [
              "<Figure size 432x288 with 1 Axes>"
            ],
            "image/png": "[encoded data removed]"
          },
          "metadata": {
            "needs_background": "light"
          }
        }
      ]
    },
    {
      "cell_type": "markdown",
      "source": [
        "# **2.2 DISCRETAS BINOMINAL**\n",
        "\n"
      ],
      "metadata": {
        "id": "0xQnPKXrcIZv"
      }
    },
    {
      "cell_type": "code",
      "source": [
        " CODIGO1 :CALCULANDO A TABELA DE DISTRIBUIÇÃO PARA OBTER A MÉDIA E VARIÂNCIA.\n",
        "\n",
        "\n",
        "from scipy.stats import binom \n",
        "n = 6\n",
        "p = 0.6\n",
        "r_values = list(range(n + 1)) \n",
        "mean, var = binom.stats(n, p) \n",
        "dist = [binom.pmf(r, n, p) for r in r_values ] \n",
        "print(\"r\\tp(r)\") \n",
        "for i in range(n + 1): \n",
        "    print(str(r_values[i]) + \"\\t\" + str(dist[i])) \n",
        "print(\"mean = \"+str(mean)) \n",
        "print(\"variance = \"+str(var))"
      ],
      "metadata": {
        "colab": {
          "base_uri": "https://localhost:8080/"
        },
        "id": "1JpvPKNPd6co",
        "outputId": "05664f09-691e-467f-8382-8f5c87ffc744"
      },
      "execution_count": 5,
      "outputs": [
        {
          "output_type": "stream",
          "name": "stdout",
          "text": [
            "r\tp(r)\n",
            "0\t0.0040960000000000015\n",
            "1\t0.03686400000000002\n",
            "2\t0.1382400000000001\n",
            "3\t0.2764800000000001\n",
            "4\t0.3110400000000001\n",
            "5\t0.1866240000000001\n",
            "6\t0.04665599999999999\n",
            "mean = 3.5999999999999996\n",
            "variance = 1.44\n"
          ]
        }
      ]
    },
    {
      "cell_type": "markdown",
      "source": [
        "# **Código 2: traçar o gráfico usando a função matplotlib.pyplot.bar() para traçar barras verticais.**"
      ],
      "metadata": {
        "id": "DP5raP7Pf25X"
      }
    },
    {
      "cell_type": "code",
      "source": [
        "from scipy.stats import binom \n",
        "import matplotlib.pyplot as plt \n",
        "n = 6\n",
        "p = 0.6\n",
        "r_values = list(range(n + 1)) \n",
        "dist = [binom.pmf(r, n, p) for r in r_values ] \n",
        "plt.bar(r_values, dist) \n",
        "plt.show()"
      ],
      "metadata": {
        "colab": {
          "base_uri": "https://localhost:8080/",
          "height": 265
        },
        "id": "uAqsPwS6f9SO",
        "outputId": "fe739e76-4dab-4d4b-b857-6ddbd961484f"
      },
      "execution_count": 6,
      "outputs": [
        {
          "output_type": "display_data",
          "data": {
            "text/plain": [
              "<Figure size 432x288 with 1 Axes>"
            ],
            "image/png": "[encoded data removed]"
          },
          "metadata": {
            "needs_background": "light"
          }
        }
      ]
    },
    {
      "cell_type": "markdown",
      "source": [
        "\n",
        "**Quando o sucesso e o fracasso são igualmente prováveis, a distribuição binomial é uma distribuição normal. Portanto, alterando o valor de p para 0,5 , obtemos este gráfico, que é idêntico a um gráfico de distribuição normal:**\n",
        "\n",
        "\n",
        "\n"
      ],
      "metadata": {
        "id": "Hi3dHMEqgKeH"
      }
    },
    {
      "cell_type": "code",
      "source": [
        "from scipy.stats import binom \n",
        "import matplotlib.pyplot as plt \n",
        "n = 6\n",
        "p = 0.5\n",
        "r_values = list(range(n + 1)) \n",
        "dist = [binom.pmf(r, n, p) for r in r_values ] \n",
        "plt.bar(r_values, dist) \n",
        "plt.show()"
      ],
      "metadata": {
        "colab": {
          "base_uri": "https://localhost:8080/",
          "height": 265
        },
        "id": "Um7lEfn3gch3",
        "outputId": "110684f1-7678-4d67-e870-8836f4e85e5c"
      },
      "execution_count": 7,
      "outputs": [
        {
          "output_type": "display_data",
          "data": {
            "text/plain": [
              "<Figure size 432x288 with 1 Axes>"
            ],
            "image/png": "[encoded data removed]"
          },
          "metadata": {
            "needs_background": "light"
          }
        }
      ]
    },
    {
      "cell_type": "markdown",
      "source": [
        "# **2.3 DISCRETAS GEOMETRICA**"
      ],
      "metadata": {
        "id": "deQa9aKlg0e-"
      }
    },
    {
      "cell_type": "markdown",
      "source": [
        "# **Código # 1: Criação de variável aleatória discreta geométrica**\n",
        "\n",
        "x: quantis\n",
        "\n",
        "Loc: parâmetro de localização [opcional]. Padrão = 0\n",
        "\n",
        "Escala: parâmetro de escala [opcional]. Padrão = 1\n",
        "\n",
        "Momentos: [opcional] composto por letras ['mvsk']; 'm' = média, 'v' = variância, 's' = inclinação de Fisher e 'k' = curtose de Fisher. (padrão = 'mv').\n"
      ],
      "metadata": {
        "id": "Bam_cQSPh_5u"
      }
    },
    {
      "cell_type": "code",
      "source": [
        "from scipy.stats import geom  \n",
        "    \n",
        "numargs = geom .numargs  \n",
        "a, b = 0.2, 0.8\n",
        "rv = geom (a, b)  \n",
        "    \n",
        "print (\"RV : \\n\", rv)"
      ],
      "metadata": {
        "colab": {
          "base_uri": "https://localhost:8080/"
        },
        "id": "YdCnzKNjiZk9",
        "outputId": "74a1dbe9-d941-4156-a7a1-363eb5685d16"
      },
      "execution_count": 8,
      "outputs": [
        {
          "output_type": "stream",
          "name": "stdout",
          "text": [
            "RV : \n",
            " <scipy.stats._distn_infrastructure.rv_frozen object at 0x7fa02c632850>\n"
          ]
        }
      ]
    },
    {
      "cell_type": "markdown",
      "source": [
        "# **Código # 2: Variáveis ​​discretas geométricas e distribuição de probabilidade**"
      ],
      "metadata": {
        "id": "PS1AIH1kieDM"
      }
    },
    {
      "cell_type": "code",
      "source": [
        "import numpy as np  \n",
        "quantile = np.arange (0.01, 1, 0.1)  \n",
        "R = geom .rvs(a, b, size = 10)  \n",
        "print (\"Random Variates : \\n\", R)  \n",
        "x = np.linspace(geom.ppf(0.01, a, b), \n",
        "                geom.ppf(0.99, a, b), 10) \n",
        "R = geom.ppf(x, 1, 3) \n",
        "print (\"\\nProbability Distribution : \\n\", R) "
      ],
      "metadata": {
        "colab": {
          "base_uri": "https://localhost:8080/"
        },
        "id": "FmSam-vbif2t",
        "outputId": "54c521e3-54bc-407c-9b83-c60c52be323f"
      },
      "execution_count": 9,
      "outputs": [
        {
          "output_type": "stream",
          "name": "stdout",
          "text": [
            "Random Variates : \n",
            " [10  4 10  1  8  1  1  4  9 14]\n",
            "\n",
            "Probability Distribution : \n",
            " [nan nan nan nan nan nan nan nan nan nan]\n"
          ]
        }
      ]
    },
    {
      "cell_type": "markdown",
      "source": [
        "# **Código # 3: Representação gráfica.**"
      ],
      "metadata": {
        "id": "hd3B_3kJijF9"
      }
    },
    {
      "cell_type": "code",
      "source": [
        "import numpy as np  \n",
        "import matplotlib.pyplot as plt  \n",
        "     \n",
        "distribution = np.linspace(0, np.minimum(rv.dist.b, 2))  \n",
        "print(\"Distribution : \\n\", distribution)  \n",
        "     \n",
        "plot = plt.plot(distribution, rv.ppf(distribution)) "
      ],
      "metadata": {
        "colab": {
          "base_uri": "https://localhost:8080/",
          "height": 439
        },
        "id": "vou4uyBJimh9",
        "outputId": "498cd3d0-a3c4-4344-bea3-6aad37dc4cc1"
      },
      "execution_count": 10,
      "outputs": [
        {
          "output_type": "stream",
          "name": "stdout",
          "text": [
            "Distribution : \n",
            " [0.         0.04081633 0.08163265 0.12244898 0.16326531 0.20408163\n",
            " 0.24489796 0.28571429 0.32653061 0.36734694 0.40816327 0.44897959\n",
            " 0.48979592 0.53061224 0.57142857 0.6122449  0.65306122 0.69387755\n",
            " 0.73469388 0.7755102  0.81632653 0.85714286 0.89795918 0.93877551\n",
            " 0.97959184 1.02040816 1.06122449 1.10204082 1.14285714 1.18367347\n",
            " 1.2244898  1.26530612 1.30612245 1.34693878 1.3877551  1.42857143\n",
            " 1.46938776 1.51020408 1.55102041 1.59183673 1.63265306 1.67346939\n",
            " 1.71428571 1.75510204 1.79591837 1.83673469 1.87755102 1.91836735\n",
            " 1.95918367 2.        ]\n"
          ]
        },
        {
          "output_type": "display_data",
          "data": {
            "text/plain": [
              "<Figure size 432x288 with 1 Axes>"
            ],
            "image/png": "[encoded data removed]"
          },
          "metadata": {
            "needs_background": "light"
          }
        }
      ]
    },
    {
      "cell_type": "markdown",
      "source": [
        "# **Código # 4: Argumentos posicionais variáveis.**"
      ],
      "metadata": {
        "id": "4VTxDK-0itDl"
      }
    },
    {
      "cell_type": "code",
      "source": [
        "import matplotlib.pyplot as plt  \n",
        "import numpy as np  \n",
        "  \n",
        "x = np.linspace(0, 5, 100)  \n",
        "     \n",
        "y1 = geom.ppf(x, a, b)  \n",
        "y2 = geom.pmf(x, a, b)  \n",
        "plt.plot(x, y1, \"*\", x, y2, \"r--\") "
      ],
      "metadata": {
        "colab": {
          "base_uri": "https://localhost:8080/",
          "height": 300
        },
        "id": "GNx5ZanYivKl",
        "outputId": "9fd93cd5-1033-4eb9-e8fa-cf86524e819f"
      },
      "execution_count": 11,
      "outputs": [
        {
          "output_type": "execute_result",
          "data": {
            "text/plain": [
              "[<matplotlib.lines.Line2D at 0x7fa02c544a10>,\n",
              " <matplotlib.lines.Line2D at 0x7fa02c544c50>]"
            ]
          },
          "metadata": {},
          "execution_count": 11
        },
        {
          "output_type": "display_data",
          "data": {
            "text/plain": [
              "<Figure size 432x288 with 1 Axes>"
            ],
            "image/png": "[encoded data removed]"
          },
          "metadata": {
            "needs_background": "light"
          }
        }
      ]
    },
    {
      "cell_type": "markdown",
      "source": [
        "# **2.4 DISCRETAS HIPERGEOMETRICA**"
      ],
      "metadata": {
        "id": "gsi8tIRkjBb0"
      }
    },
    {
      "cell_type": "markdown",
      "source": [
        "# **Código # 1: Criação de variável aleatória discreta hipergeométrica**\n",
        "\n",
        "x: quantis\n",
        "\n",
        "Loc: parâmetro de localização [opcional]. Padrão = 0\n",
        "\n",
        "Escala: parâmetro de escala [opcional]. Padrão = 1\n",
        "\n",
        "Momentos: [opcional] composto por letras ['mvsk']; 'm' = média, 'v' = variância, 's' = inclinação de Fisher e 'k' = curtose de Fisher. (padrão = 'mv')."
      ],
      "metadata": {
        "id": "QES4jwWZjPJl"
      }
    },
    {
      "cell_type": "code",
      "source": [
        "from scipy.stats import hypergeom  \n",
        "    \n",
        "numargs = hypergeom .numargs  \n",
        "a, b = 0.2, 0.8\n",
        "rv = hypergeom (a, b)  \n",
        "    \n",
        "print (\"RV : \\n\", rv) "
      ],
      "metadata": {
        "id": "JZlpsnyLs5J-"
      },
      "execution_count": null,
      "outputs": []
    },
    {
      "cell_type": "markdown",
      "source": [
        "# **Código # 2: variáveis ​​discretas hipergeométricas e distribuição de probabilidade**"
      ],
      "metadata": {
        "id": "72RnuHM7j_Hz"
      }
    },
    {
      "cell_type": "code",
      "source": [
        "import numpy as np  \n",
        "quantile = np.arange (0.01, 1, 0.1)  \n",
        "R = hypergeom .pmf(a, b, c, 10)  \n",
        "print (\"Random Variates : \\n\", R)  \n",
        "x = np.linspace(hypergeom.ppf(0.01, a, b, c), \n",
        "                hypergeom.ppf(0.99, a, b, c), 10) \n",
        "R = hypergeom.ppf(x, 1, 3, 3) \n",
        "print (\"\\nProbability Distribution : \\n\", R)"
      ],
      "metadata": {
        "id": "ZzaGwsZpsYbl"
      },
      "execution_count": null,
      "outputs": []
    },
    {
      "cell_type": "markdown",
      "source": [
        "# **Código # 3: Representação gráfica.**"
      ],
      "metadata": {
        "id": "fAjFg6VXko0b"
      }
    },
    {
      "cell_type": "code",
      "source": [
        "import numpy as np  \n",
        "import matplotlib.pyplot as plt  \n",
        "     \n",
        "distribution = np.linspace(0, np.minimum(rv.dist.b, 2))  \n",
        "print(\"Distribution : \\n\", distribution) "
      ],
      "metadata": {
        "id": "Zrf6tlefktQE"
      },
      "execution_count": null,
      "outputs": []
    },
    {
      "cell_type": "markdown",
      "source": [
        "# **2.5 DISCRETAS DE POSEIDON**"
      ],
      "metadata": {
        "id": "uoAj5dLIkxoE"
      }
    },
    {
      "cell_type": "markdown",
      "source": [
        "# **CÓDIGO #1: CRIANDO A VARIÁVEL ALEATÓRIA DISCRETA DE POISON**\n"
      ],
      "metadata": {
        "id": "SkbSwUwrmVxk"
      }
    },
    {
      "cell_type": "code",
      "source": [
        "from sympy.stats import Poisson, density, E, variance \n",
        "from sympy import Symbol, simplify \n",
        "rate = Symbol(\"lambda\", positive = True) \n",
        "X = Poisson(\"x\", rate) \n",
        "gfg = density(X)(4) \n",
        "  \n",
        "print(gfg) "
      ],
      "metadata": {
        "colab": {
          "base_uri": "https://localhost:8080/"
        },
        "id": "hWyLo-MimgI7",
        "outputId": "137ef534-85b1-4cb6-a5dd-e024567888aa"
      },
      "execution_count": 18,
      "outputs": [
        {
          "output_type": "stream",
          "name": "stdout",
          "text": [
            "lambda**4*exp(-lambda)/24\n"
          ]
        }
      ]
    },
    {
      "cell_type": "markdown",
      "source": [
        "# **# Utilizando o gfg = 8 na densidade**"
      ],
      "metadata": {
        "id": "EPF_xjDRmwLp"
      }
    },
    {
      "cell_type": "code",
      "source": [
        "\n",
        "from sympy.stats import Poisson, density, E, variance \n",
        "from sympy import Symbol, simplify \n",
        "rate = Symbol(\"lambda\", positive = True) \n",
        "X = Poisson(\"x\", rate) \n",
        "gfg = density(X)(8) \n",
        "  \n",
        "print(gfg) "
      ],
      "metadata": {
        "colab": {
          "base_uri": "https://localhost:8080/"
        },
        "id": "JyvomPlIm0Ty",
        "outputId": "3551c9a5-da27-4c92-f7d1-7364da39bf5b"
      },
      "execution_count": 19,
      "outputs": [
        {
          "output_type": "stream",
          "name": "stdout",
          "text": [
            "lambda**8*exp(-lambda)/40320\n"
          ]
        }
      ]
    },
    {
      "cell_type": "markdown",
      "source": [
        "# **3.0 VARIAVEIS ALEATORIAS CONTÍNUAS**"
      ],
      "metadata": {
        "id": "vhPRDwA-m937"
      }
    },
    {
      "cell_type": "markdown",
      "source": [
        "Uma função X definida sobre o espaço amostral Ω e assumindo valores num intervalo de números reais, é denominada variável aleatória contínua."
      ],
      "metadata": {
        "id": "yO6I6y6gneLV"
      }
    },
    {
      "cell_type": "markdown",
      "source": [
        "# **3.1 DISTRIBUIÇÃO NORMAL**"
      ],
      "metadata": {
        "id": "VDxkxYdzoxkB"
      }
    },
    {
      "cell_type": "code",
      "source": [
        "import numpy as np \n",
        "import matplotlib.pyplot as plt \n",
        "from scipy.stats import norm \n",
        "import statistics \n",
        "x_axis = np.arange(-20, 20, 0.01) \n",
        "mean = statistics.mean(x_axis) \n",
        "sd = statistics.stdev(x_axis) \n",
        "  \n",
        "plt.plot(x_axis, norm.pdf(x_axis, mean, sd)) \n",
        "plt.show() "
      ],
      "metadata": {
        "colab": {
          "base_uri": "https://localhost:8080/",
          "height": 265
        },
        "id": "t2ltVbsWpQe5",
        "outputId": "bc9b4d04-15b3-4be2-a9e5-97177bd42a13"
      },
      "execution_count": 20,
      "outputs": [
        {
          "output_type": "display_data",
          "data": {
            "text/plain": [
              "<Figure size 432x288 with 1 Axes>"
            ],
            "image/png": "[encoded data removed]"
          },
          "metadata": {
            "needs_background": "light"
          }
        }
      ]
    },
    {
      "cell_type": "markdown",
      "source": [
        "# **3.2 DISTRIBUIÇÃO EXPONENCIAL**"
      ],
      "metadata": {
        "id": "FRpjVvKppkAy"
      }
    },
    {
      "cell_type": "markdown",
      "source": [
        "# **Código # 1: Criação de variável aleatória contínua exponencial**\n",
        "\n",
        "q :Probabilidade de cauda inferior e superior\n",
        "\n",
        "x:Quantis\n",
        "\n",
        "Loc: parâmetro de localização [opcional]. Padrão = 0\n",
        "\n",
        "Escala:parâmetro de escala [opcional]. Padrão = 1\n",
        "\n",
        "Tamanho: [tupla de ints, opcional] forma ou variáveis ​​aleatórias.\n",
        "\n",
        "Momentos: [opcional] composto por letras ['mvsk']; 'm' = média, 'v' = variância, 's' = inclinação de Fisher e 'k' = curtose de Fisher. (padrão = 'mv')."
      ],
      "metadata": {
        "id": "mrbOmUAmqKEp"
      }
    },
    {
      "cell_type": "code",
      "source": [
        "from scipy.stats import expon  \n",
        "  \n",
        "numargs = expon.numargs \n",
        "[ ] = [0.6, ] * numargs \n",
        "rv = expon( ) \n",
        "  \n",
        "print (\"RV : \\n\", rv) "
      ],
      "metadata": {
        "colab": {
          "base_uri": "https://localhost:8080/"
        },
        "id": "_I4RX9VXqPb5",
        "outputId": "2ef4ee39-6842-4dc3-879c-241ad041894a"
      },
      "execution_count": 21,
      "outputs": [
        {
          "output_type": "stream",
          "name": "stdout",
          "text": [
            "RV : \n",
            " <scipy.stats._distn_infrastructure.rv_frozen object at 0x7fa02b15bc90>\n"
          ]
        }
      ]
    },
    {
      "cell_type": "markdown",
      "source": [
        "# **Código # 2: variáveis ​​aleatórias exponenciais e distribuição de probabilidade.**"
      ],
      "metadata": {
        "id": "IE1VIXBIqR0p"
      }
    },
    {
      "cell_type": "code",
      "source": [
        "import numpy as np \n",
        "quantile = np.arange (0.01, 1, 0.1) \n",
        "   \n",
        "R = expon.rvs(scale = 2,  size = 10) \n",
        "print (\"Random Variates : \\n\", R) \n",
        "R = expon.pdf(quantile, loc = 0, scale = 1) \n",
        "print (\"\\nProbability Distribution : \\n\", R)"
      ],
      "metadata": {
        "colab": {
          "base_uri": "https://localhost:8080/"
        },
        "id": "haY3n2dwqVGT",
        "outputId": "e1f6021f-f682-440f-f3d4-ff651e4ece13"
      },
      "execution_count": 22,
      "outputs": [
        {
          "output_type": "stream",
          "name": "stdout",
          "text": [
            "Random Variates : \n",
            " [ 2.90204884  4.32172679  0.33502391 16.31659427  0.55674916  0.26237231\n",
            "  0.37479652  1.74257727  2.3051225   1.15041959]\n",
            "\n",
            "Probability Distribution : \n",
            " [0.99004983 0.89583414 0.81058425 0.73344696 0.66365025 0.60049558\n",
            " 0.54335087 0.4916442  0.44485807 0.40252422]\n"
          ]
        }
      ]
    },
    {
      "cell_type": "markdown",
      "source": [
        "# **Código # 3: Representação gráfica.**"
      ],
      "metadata": {
        "id": "vg2vUQUoqYvb"
      }
    },
    {
      "cell_type": "code",
      "source": [
        "import numpy as np \n",
        "import matplotlib.pyplot as plt \n",
        "  \n",
        "distribution = np.linspace(0, np.minimum(rv.dist.b, 5)) \n",
        "print(\"Distribution : \\n\", distribution) \n",
        "  \n",
        "plot = plt.plot(distribution, rv.pdf(distribution))"
      ],
      "metadata": {
        "colab": {
          "base_uri": "https://localhost:8080/",
          "height": 439
        },
        "id": "XGXFf1x-qcaz",
        "outputId": "d7832023-062b-4b76-d982-e7f32233d624"
      },
      "execution_count": 23,
      "outputs": [
        {
          "output_type": "stream",
          "name": "stdout",
          "text": [
            "Distribution : \n",
            " [0.         0.10204082 0.20408163 0.30612245 0.40816327 0.51020408\n",
            " 0.6122449  0.71428571 0.81632653 0.91836735 1.02040816 1.12244898\n",
            " 1.2244898  1.32653061 1.42857143 1.53061224 1.63265306 1.73469388\n",
            " 1.83673469 1.93877551 2.04081633 2.14285714 2.24489796 2.34693878\n",
            " 2.44897959 2.55102041 2.65306122 2.75510204 2.85714286 2.95918367\n",
            " 3.06122449 3.16326531 3.26530612 3.36734694 3.46938776 3.57142857\n",
            " 3.67346939 3.7755102  3.87755102 3.97959184 4.08163265 4.18367347\n",
            " 4.28571429 4.3877551  4.48979592 4.59183673 4.69387755 4.79591837\n",
            " 4.89795918 5.        ]\n"
          ]
        },
        {
          "output_type": "display_data",
          "data": {
            "text/plain": [
              "<Figure size 432x288 with 1 Axes>"
            ],
            "image/png": "[encoded data removed]"
          },
          "metadata": {
            "needs_background": "light"
          }
        }
      ]
    },
    {
      "cell_type": "markdown",
      "source": [
        "# **Código # 4: Argumentos posicionais variáveis.**"
      ],
      "metadata": {
        "id": "C8c905UTqfyj"
      }
    },
    {
      "cell_type": "code",
      "source": [
        "import matplotlib.pyplot as plt \n",
        "import numpy as np \n",
        "  \n",
        "x = np.linspace(0, 5, 100) \n",
        "y1 = expon.pdf(x, 2, 6) \n",
        "y2 = expon.pdf(x, 1, 4) \n",
        "plt.plot(x, y1, \"*\", x, y2, \"r--\") "
      ],
      "metadata": {
        "colab": {
          "base_uri": "https://localhost:8080/",
          "height": 300
        },
        "id": "hzMv7POAqj6g",
        "outputId": "b79ed1de-7450-47f8-fed7-2a2cbe56fcd1"
      },
      "execution_count": 24,
      "outputs": [
        {
          "output_type": "execute_result",
          "data": {
            "text/plain": [
              "[<matplotlib.lines.Line2D at 0x7fa02b0f1090>,\n",
              " <matplotlib.lines.Line2D at 0x7fa02b0f1290>]"
            ]
          },
          "metadata": {},
          "execution_count": 24
        },
        {
          "output_type": "display_data",
          "data": {
            "text/plain": [
              "<Figure size 432x288 with 1 Axes>"
            ],
            "image/png": "[encoded data removed]"
          },
          "metadata": {
            "needs_background": "light"
          }
        }
      ]
    },
    {
      "cell_type": "markdown",
      "source": [
        "## **3.3 DISTRIBUIÇÃO T DE STUDENT**"
      ],
      "metadata": {
        "id": "wk-Z5LWZqnb5"
      }
    },
    {
      "cell_type": "markdown",
      "source": [
        "# **Código # 1: Criação de variável aleatória contínua t de Student.**\n",
        "\n",
        "\n",
        "\n",
        "q: probabilidade de cauda inferior e superior\n",
        "x: quantis\n",
        "\n",
        "Loc: parâmetro de localização [opcional]. Padrão = 0\n",
        "\n",
        "Escala: parâmetro de escala [opcional]. Padrão = 1\n",
        "\n",
        "Tamanho: [tupla de ints, opcional] forma ou variáveis ​​aleatórias.\n",
        "\n",
        "Momentos: [opcional] composto por letras ['mvsk']; 'm' = média, 'v' = variância, 's' = inclinação de Fisher e 'k' = curtose de Fisher. (padrão = 'mv').\n"
      ],
      "metadata": {
        "id": "zmKTvi8_rE15"
      }
    },
    {
      "cell_type": "code",
      "source": [
        "from scipy.stats import t  \n",
        "    \n",
        "numargs = t .numargs  \n",
        "a, b = 4.82, 3.28\n",
        "rv = t (a, b)  \n",
        "    \n",
        "print (\"RV : \\n\", rv) "
      ],
      "metadata": {
        "colab": {
          "base_uri": "https://localhost:8080/"
        },
        "id": "T9uup3-ErQq_",
        "outputId": "5938ee07-02ea-435d-a190-ee62c52436d7"
      },
      "execution_count": 25,
      "outputs": [
        {
          "output_type": "stream",
          "name": "stdout",
          "text": [
            "RV : \n",
            " <scipy.stats._distn_infrastructure.rv_frozen object at 0x7fa02b098f90>\n"
          ]
        }
      ]
    },
    {
      "cell_type": "markdown",
      "source": [
        "# **Código # 2: Variáveis ​​contínuas t de aluno e distribuição de probabilidade.**"
      ],
      "metadata": {
        "id": "x9k9neg2rWso"
      }
    },
    {
      "cell_type": "code",
      "source": [
        "import numpy as np  \n",
        "quantile = np.arange (0.01, 1, 0.1)  \n",
        "R = t.rvs(a, b)  \n",
        "print (\"Random Variates : \\n\", R)  \n",
        "R = t.pdf(a, b, quantile)  \n",
        "print (\"\\nProbability Distribution : \\n\", R)"
      ],
      "metadata": {
        "colab": {
          "base_uri": "https://localhost:8080/"
        },
        "id": "OB7cVavFrbLI",
        "outputId": "111a14bc-3672-4d56-a560-94a38d163ab6"
      },
      "execution_count": 26,
      "outputs": [
        {
          "output_type": "stream",
          "name": "stdout",
          "text": [
            "Random Variates : \n",
            " 3.473626458519152\n",
            "\n",
            "Probability Distribution : \n",
            " [0.00426036 0.00460849 0.00499129 0.0054128  0.0058776  0.00639086\n",
            " 0.00695848 0.00758713 0.00828443 0.00905905]\n"
          ]
        }
      ]
    },
    {
      "cell_type": "markdown",
      "source": [
        "# **Código # 3: Representação gráfica.**"
      ],
      "metadata": {
        "id": "1AKIxbTdrey3"
      }
    },
    {
      "cell_type": "code",
      "source": [
        "import numpy as np  \n",
        "import matplotlib.pyplot as plt  \n",
        "     \n",
        "distribution = np.linspace(0, np.minimum(rv.dist.b, 3))  \n",
        "print(\"Distribution : \\n\", distribution)  \n",
        "     \n",
        "plot = plt.plot(distribution, rv.pdf(distribution))"
      ],
      "metadata": {
        "colab": {
          "base_uri": "https://localhost:8080/",
          "height": 439
        },
        "id": "4NXxj6Z2riH3",
        "outputId": "89e4abb9-8904-4a81-a27b-f01e638d7aac"
      },
      "execution_count": 27,
      "outputs": [
        {
          "output_type": "stream",
          "name": "stdout",
          "text": [
            "Distribution : \n",
            " [0.         0.06122449 0.12244898 0.18367347 0.24489796 0.30612245\n",
            " 0.36734694 0.42857143 0.48979592 0.55102041 0.6122449  0.67346939\n",
            " 0.73469388 0.79591837 0.85714286 0.91836735 0.97959184 1.04081633\n",
            " 1.10204082 1.16326531 1.2244898  1.28571429 1.34693878 1.40816327\n",
            " 1.46938776 1.53061224 1.59183673 1.65306122 1.71428571 1.7755102\n",
            " 1.83673469 1.89795918 1.95918367 2.02040816 2.08163265 2.14285714\n",
            " 2.20408163 2.26530612 2.32653061 2.3877551  2.44897959 2.51020408\n",
            " 2.57142857 2.63265306 2.69387755 2.75510204 2.81632653 2.87755102\n",
            " 2.93877551 3.        ]\n"
          ]
        },
        {
          "output_type": "display_data",
          "data": {
            "text/plain": [
              "<Figure size 432x288 with 1 Axes>"
            ],
            "image/png": "[encoded data removed]"
          },
          "metadata": {
            "needs_background": "light"
          }
        }
      ]
    },
    {
      "cell_type": "markdown",
      "source": [
        "# **Código # 4: Argumentos posicionais variáveis.**"
      ],
      "metadata": {
        "id": "NfC5a069rlZv"
      }
    },
    {
      "cell_type": "code",
      "source": [
        "import matplotlib.pyplot as plt  \n",
        "import numpy as np  \n",
        "     \n",
        "x = np.linspace(0, 5, 100)  \n",
        "     \n",
        "y1 = t .pdf(x, 1, 3, 5)  \n",
        "y2 = t .pdf(x, 1, 4, 4)  \n",
        "plt.plot(x, y1, \"*\", x, y2, \"r--\")"
      ],
      "metadata": {
        "colab": {
          "base_uri": "https://localhost:8080/",
          "height": 300
        },
        "id": "xU1ELS7UrqY_",
        "outputId": "38da0a1f-68ba-4bd1-9b7e-f9df0076aab3"
      },
      "execution_count": 28,
      "outputs": [
        {
          "output_type": "execute_result",
          "data": {
            "text/plain": [
              "[<matplotlib.lines.Line2D at 0x7fa02afe0490>,\n",
              " <matplotlib.lines.Line2D at 0x7fa02afe0690>]"
            ]
          },
          "metadata": {},
          "execution_count": 28
        },
        {
          "output_type": "display_data",
          "data": {
            "text/plain": [
              "<Figure size 432x288 with 1 Axes>"
            ],
            "image/png": "[encoded data removed]"
          },
          "metadata": {
            "needs_background": "light"
          }
        }
      ]
    },
    {
      "cell_type": "markdown",
      "source": [
        "## **4.0 REFERÊNCIA**"
      ],
      "metadata": {
        "id": "sZ585E7CrtoQ"
      }
    },
    {
      "cell_type": "markdown",
      "source": [
        "https://acervolima.com/python-distribuicao-t-de-aluno-em-estatistica/\n"
      ],
      "metadata": {
        "id": "nND1CJ9Mr00O"
      }
    }
  ],
  "metadata": {
    "colab": {
      "collapsed_sections": [],
      "name": "Olá, este é o Colaboratory",
      "toc_visible": true,
      "provenance": [],
      "include_colab_link": true
    },
    "kernelspec": {
      "display_name": "Python 3",
      "name": "python3"
    }
  },
  "nbformat": 4,
  "nbformat_minor": 0
}